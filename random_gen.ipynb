{
 "cells": [
  {
   "cell_type": "markdown",
   "metadata": {
    "id": "CprOepyKt_YX"
   },
   "source": [
    "# Importy"
   ]
  },
  {
   "cell_type": "code",
   "execution_count": 1,
   "metadata": {
    "id": "NGbFd1fWtkXT"
   },
   "outputs": [],
   "source": [
    "import numpy as np\n",
    "import matplotlib.pyplot as plt\n",
    "import time\n",
    "import decimal\n",
    "import scipy.stats as stats"
   ]
  },
  {
   "cell_type": "code",
   "execution_count": 2,
   "metadata": {},
   "outputs": [],
   "source": [
    "def drawdemp(random_sample, sub=None, title=None,  xlim_min=None, xlim_max=None, line_style=\"\"):\n",
    "    \"\"\"Draws CDF for the given random_sample.\"\"\"\n",
    "    xs = np.array(random_sample, dtype=np.float)\n",
    "    xs.sort()\n",
    "    step = (xs[-1] - xs[0]) / xs.size\n",
    "    xs = np.insert(xs, 0, xs[0] - step)\n",
    "    xs = np.insert(xs, xs.size, xs[-1] + step)\n",
    "    ys = np.linspace(0, 1, xs.size - 1)\n",
    "\n",
    "    fig, ax = plt.subplots()\n",
    "    ax.hlines(y=ys, xmin=xs[:-1], xmax=xs[1:])\n",
    "    ax.vlines(x=xs[1:-1], ymin=ys[:-1], ymax=ys[1:], linestyle='dashed')\n",
    "    ax.set_xlim(min(xs), max(xs))\n",
    "    plt.xlabel(\"x\")\n",
    "    plt.ylabel(\"F(x)\")\n",
    "    if xlim_min:\n",
    "        ax.set_xlim(xlim_min, max(xs))\n",
    "    if xlim_max:\n",
    "        ax.set_xlim(min(xs), xlim_max)\n",
    "    if xlim_min and xlim_max:\n",
    "        ax.set_xlim(xlim_min, xlim_max)\n",
    "    if sub:\n",
    "        plt.plot(xs, [sub(i) for i in xs], line_style)\n",
    "    if title:\n",
    "        plt.title(title)\n",
    "    plt.show()\n",
    "\n",
    "def finv(f, dx=0.01, ys=None):\n",
    "    \"\"\"Inverse function\"\"\"\n",
    "    a = -1\n",
    "    b = 1\n",
    "    while float(f(a)) > dx:\n",
    "        a *= 2\n",
    "    while f(b) < 1 - dx:\n",
    "        b *= 2\n",
    "    xs = np.arange(a, b, dx)\n",
    "    if not ys:\n",
    "        ys = np.arange(0, 1, dx)\n",
    "    dic = {}\n",
    "    for y in ys:\n",
    "        T = [x for x in xs if f(x) > y]\n",
    "        dic[y] = min(T, default=b)\n",
    "    return dic, list(dic.keys()), list(dic.values())\n",
    "    \n",
    "\n",
    "def drawqq(X, distr, title=None):\n",
    "    \"\"\"Draws QQ-Plot\"\"\"\n",
    "    X.sort()\n",
    "    N = len(X)\n",
    "    q_dic, x, y = finv(distr, dx=1 / N)\n",
    "    plt.scatter(y, X)\n",
    "    plt.plot(X, X)\n",
    "    if title:\n",
    "        plt.title(title)\n",
    "    plt.show()"
   ]
  },
  {
   "cell_type": "markdown",
   "metadata": {
    "id": "9O86nQv0uHTW"
   },
   "source": [
    "# Generator liczb pseudolosowych"
   ]
  },
  {
   "cell_type": "markdown",
   "metadata": {
    "id": "mQPKhoTuuTEi"
   },
   "source": [
    "Do generowania liczb pseudolosowych użyjemy metody liniowego generatora kongurentnego, opracowanej przez Lehmer'a w 1951. Polega ona na rekurencyjnym obliczaniu kolejnych liczb pseudolosowych z zakresu od $0$ do $m$ za pomocą poniższego wzoru:\n",
    "$$\n",
    "x_i = (c \\cdot x_{i-1} + 1)\\mod m.\n",
    "$$\n",
    "Aby generować liczby całkowite z przedziału $[a, b]$, gdzie $a,b \\in \\mathbb{Z}$, generujemy $x_i$ według poprzedniego wzoru, a następnie bierzemy\n",
    "$$x_i\\mod(b + 1 - a) + a.$$\n",
    "Liczby zmiennoprzecinkowe z $U(a,b)$ otrzymujemy następująco:\n",
    "$$\\frac{x_i}{m} \\cdot(b - a) + a,$$ w ten sposób można też otrzymać liczby całkowite, wystarczy je zaokrąglić. Właśnie tak postępujemy w przypadku, gdy  $b-a=1$, ponieważ korzystając z pierwszego sposobu uzyskałyśmy niezadowalające wyniki."
   ]
  },
  {
   "cell_type": "code",
   "execution_count": 3,
   "metadata": {
    "id": "yb_JQLM3uMy8"
   },
   "outputs": [],
   "source": [
    "class RandomGen:\n",
    "    def __init__(self, c=21*2**30+3, m=2**38, seed=int((time.time()%1)*10**16)):\n",
    "        self.c = decimal.Decimal(c)\n",
    "        self.m = decimal.Decimal(m)\n",
    "        self.seed = decimal.Decimal(seed)\n",
    "    \n",
    "    def change_seed(self, val):\n",
    "        \"\"\"Sets seed value equat to val. \"\"\"\n",
    "        val = decimal.Decimal(float(val))\n",
    "        self.seed = val\n",
    "\n",
    "    def random_seed(self):\n",
    "        \"\"\"Sets value of seed equat to random number.\"\"\"\n",
    "        val = int((time.time()%1)*10**16)\n",
    "        self.change_seed(val)\n",
    "\n",
    "    def random_int(self, n=1, a=0, b=1):\n",
    "        \"\"\"Linear congruential generator returns list of n pseudo random numbers(int) from [a, b].\n",
    "        a and be should be integers.\"\"\"\n",
    "        a = decimal.Decimal(int(a))\n",
    "        b = decimal.Decimal(int(b))\n",
    "        l = np.zeros(n, dtype = np.int64)\n",
    "        for i in range(n):\n",
    "            x_i = (self.c * self.seed + 1) % self.m\n",
    "            if b - a == 1:\n",
    "                l[i] = (x_i / self.m + a).quantize(0)\n",
    "            else:\n",
    "                l[i] = x_i % (b + 1 - a) + a\n",
    "            self.change_seed(x_i)\n",
    "        if n==1:\n",
    "            return l[0]\n",
    "        return l\n",
    "\n",
    "    def random_float(self, n=1, a=0, b=1, prec=28, to_float=True):\n",
    "        \"\"\"Linear congruential generator. Returns float number from U(a,b), where a < b,\n",
    "        or array of n floats with precision prec, by default 28 (cannot be too small). \n",
    "        By default returns float64 but if to_float is False returns Decimal objects. \"\"\"\n",
    "        decimal.getcontext().prec = prec\n",
    "        a = decimal.Decimal(a)\n",
    "        b = decimal.Decimal(b)\n",
    "        l = np.zeros(n, dtype=np.float64)\n",
    "        if not to_float:\n",
    "            l = np.zeros(n, dtype=np.dtype(decimal.Decimal))\n",
    "        for i in range(n):\n",
    "            x_i = (self.c * self.seed + 1) % self.m\n",
    "            l[i] = x_i / self.m * (b - a) + a\n",
    "            self.change_seed(x_i)\n",
    "        if n==1:\n",
    "            return l[0]\n",
    "        return l\n",
    "\n",
    "    def random_float_union(self, n=1, prec=28, a=2**64-1, b=2**64, same_prec=True):\n",
    "        \"\"\"Returns list of n pseudo random numbers (Decimal objects) \n",
    "        from U((0, 1)U(a, b)). Prec means number of digits after comma, \n",
    "        by default 28(cannot be too small). If same_prec is True all numbers \n",
    "        have the same number of digits after coma.\"\"\"\n",
    "        l = np.zeros(n, dtype=np.dtype(decimal.Decimal))\n",
    "        dp = 0\n",
    "        if same_prec:\n",
    "            s = str(self.random_float(a=a, b=b, prec=prec, to_float=False))\n",
    "            k = s.index('.')\n",
    "            dp = len(str(self.random_float(prec=prec, to_float=False))) - 1 - len(s[k:])\n",
    "        for i in range(n):\n",
    "            U = self.random_float()\n",
    "            if U < 0.5:\n",
    "                l[i] = self.random_float(prec=prec, to_float=False)\n",
    "            else:\n",
    "                l[i] = self.random_float(a=a, b=b, prec=prec+dp, to_float=False)\n",
    "        if n==1:\n",
    "            return l[0]\n",
    "        return l\n",
    "\n",
    "    def random_poisson(self, l=1):\n",
    "        i = 0\n",
    "        p = np.exp(-l)\n",
    "        F = p\n",
    "        U = self.random_float()\n",
    "        while U > F:\n",
    "            p  = p * l/(i+1)\n",
    "            F += p\n",
    "            i += 1\n",
    "        return i\n",
    "\n",
    "    def exp_gen(self, n, l):\n",
    "        U = self.random_float(n) \n",
    "        return -np.log(U)/l\n",
    "\n",
    "R = RandomGen()"
   ]
  },
  {
   "cell_type": "markdown",
   "metadata": {
    "id": "YhMGokKYua_s"
   },
   "source": [
    "W naszym generatorze domyśle współczynniki wynoszą odpowiednio:\n",
    "$$c = 21\\cdot2^{30} + 3,$$ $$m = 2^{38}.$$\n",
    "\n",
    "Dla tych wartości okres generatora wynosi ponad 10 milionów."
   ]
  },
  {
   "cell_type": "code",
   "execution_count": 4,
   "metadata": {
    "id": "wVSWzX27uW7s"
   },
   "outputs": [],
   "source": [
    "def period(R, n):\n",
    "    l = R.random_int(n, b=R.m)\n",
    "    unique, counts = np.unique(l, return_counts=True)\n",
    "    T = np.where(counts>=2)[0]\n",
    "    if T.size > 0:\n",
    "        return np.where(l==unique[T[0]])[0][1]\n",
    "    return n "
   ]
  },
  {
   "cell_type": "code",
   "execution_count": 5,
   "metadata": {
    "colab": {
     "base_uri": "https://localhost:8080/"
    },
    "id": "rcfQDu29udZX",
    "outputId": "3bd7c1df-6f34-4358-a79c-46c96f466eb5"
   },
   "outputs": [
    {
     "data": {
      "text/plain": [
       "10000000"
      ]
     },
     "execution_count": 5,
     "metadata": {},
     "output_type": "execute_result"
    }
   ],
   "source": [
    "period(R,10000000)"
   ]
  },
  {
   "cell_type": "markdown",
   "metadata": {
    "id": "k-jfkHqAuhWW"
   },
   "source": [
    "Domyślnie za $x_1$, czyli ziarno, przyjmujemy liczbę sekund, które upłyneły od pierwszego stycznia 1970 roku, a raczej tę liczbę, która znajduje się po przecinku, czyli femto sekundy $[10^{-15}s]$. Jest to tak mała liczba, że uznajemy ją za prawdziwie losową."
   ]
  },
  {
   "cell_type": "code",
   "execution_count": 6,
   "metadata": {
    "colab": {
     "base_uri": "https://localhost:8080/"
    },
    "id": "KBmxFmE8ue6L",
    "outputId": "b9dc1b9a-9ca7-4d20-d479-7be88dc0bb14"
   },
   "outputs": [
    {
     "name": "stdout",
     "output_type": "stream",
     "text": [
      "Aktualne ziarno: 255841467705\n",
      "Aktualne ziarno: 2757122516632080\n",
      "[5 5 6 5 5 5 6 5 6 6 6 6 6 6 6 6 5 6 6 5]\n",
      "Aktualne ziarno: 2757122516632080\n",
      "[5 5 6 5 5 5 6 5 6 6 6 6 6 6 6 6 5 6 6 5]\n"
     ]
    }
   ],
   "source": [
    "print('Aktualne ziarno:',R.seed)\n",
    "\n",
    "R.random_seed()\n",
    "print('Aktualne ziarno:',R.seed)\n",
    "l1 = R.random_int(20, a=5.4, b=6)\n",
    "print(l1)\n",
    "\n",
    "R.random_seed()\n",
    "print('Aktualne ziarno:',R.seed)\n",
    "l2 = R.random_int(20, a=5, b=6)\n",
    "print(l2)"
   ]
  },
  {
   "cell_type": "markdown",
   "metadata": {
    "id": "r5AZpTEZumTw"
   },
   "source": [
    "Na poniższych wykresach widać, że nasz generator rzeczywiście zwraca liczby z rozkładu jednostajnego oraz, że jest odpowiednio losowy."
   ]
  },
  {
   "cell_type": "markdown",
   "metadata": {
    "id": "1eriuvcBunVf"
   },
   "source": [
    "**Rozkład dyskretny**"
   ]
  },
  {
   "cell_type": "code",
   "execution_count": 7,
   "metadata": {
    "colab": {
     "base_uri": "https://localhost:8080/",
     "height": 298
    },
    "id": "f8BnPpobumqu",
    "outputId": "bb61b56f-0f23-4243-c96d-9aaf20f61713"
   },
   "outputs": [
    {
     "data": {
      "image/png": "[encoded data removed]",
      "text/plain": [
       "<Figure size 432x288 with 1 Axes>"
      ]
     },
     "metadata": {
      "needs_background": "light"
     },
     "output_type": "display_data"
    },
    {
     "name": "stdout",
     "output_type": "stream",
     "text": [
      "Średnia próbkowa 25.0271\n",
      "Średnia teoretyczna 25.0\n"
     ]
    }
   ],
   "source": [
    "l2 = R.random_int(10000,a=20, b=30)\n",
    "plt.hist(l2, bins=11, density=True)\n",
    "plt.show() \n",
    "print(\"Średnia próbkowa\", np.mean(l2))\n",
    "print(\"Średnia teoretyczna\", (30+20)/2)"
   ]
  },
  {
   "cell_type": "markdown",
   "metadata": {
    "id": "7Dd8ywzWu0Lb"
   },
   "source": [
    "**Rozkład ciągły (dla względnie małych $a$ i $b$)**"
   ]
  },
  {
   "cell_type": "code",
   "execution_count": 9,
   "metadata": {
    "colab": {
     "base_uri": "https://localhost:8080/",
     "height": 265
    },
    "id": "FfqOU5KyuxF3",
    "outputId": "6b371186-8ce9-4968-c534-fc7c76bf0bd1"
   },
   "outputs": [
    {
     "data": {
      "image/png": "[encoded data removed]",
      "text/plain": [
       "<Figure size 432x288 with 1 Axes>"
      ]
     },
     "metadata": {
      "needs_background": "light"
     },
     "output_type": "display_data"
    }
   ],
   "source": [
    "l3 = R.random_float(n=100)\n",
    "drawqq(l3, stats.uniform.cdf)"
   ]
  },
  {
   "cell_type": "code",
   "execution_count": 11,
   "metadata": {
    "colab": {
     "base_uri": "https://localhost:8080/",
     "height": 265
    },
    "id": "r43CdxoJu17A",
    "outputId": "0ae18895-6e5a-420b-8100-2089337ff53d"
   },
   "outputs": [
    {
     "data": {
      "image/png": "[encoded data removed]",
      "text/plain": [
       "<Figure size 432x288 with 1 Axes>"
      ]
     },
     "metadata": {
      "needs_background": "light"
     },
     "output_type": "display_data"
    }
   ],
   "source": [
    "l3 = R.random_float(n=500)\n",
    "plt.scatter(l3[:-1], l3[1:])\n",
    "plt.show()"
   ]
  },
  {
   "cell_type": "markdown",
   "metadata": {
    "id": "mpwUxuDTvQK0"
   },
   "source": [
    "Testy Kołmogorowa-Smirnowa również wypadają dobrze."
   ]
  },
  {
   "cell_type": "code",
   "execution_count": 12,
   "metadata": {
    "colab": {
     "base_uri": "https://localhost:8080/"
    },
    "id": "5M_1kDT5vKdV",
    "outputId": "6a4377be-3863-4b0b-fc65-59f30999da86"
   },
   "outputs": [
    {
     "name": "stdout",
     "output_type": "stream",
     "text": [
      "Test zgodnosci Kołmogorowa-Smirnowa: 98.0\n"
     ]
    }
   ],
   "source": [
    "alfa = 0.05\n",
    "result = np.zeros(100)\n",
    "for i in range(100):\n",
    "    l_i = R.random_float(n=1000, to_float=True)\n",
    "    result[i] = stats.kstest(l_i, stats.uniform.cdf).pvalue > alfa\n",
    "print(\"Test zgodnosci Kołmogorowa-Smirnowa:\", sum(result))"
   ]
  },
  {
   "cell_type": "markdown",
   "metadata": {
    "id": "XBGL_pyRvUFW"
   },
   "source": [
    "Średnia i wariancja też są bliskie teoretycznych wartości."
   ]
  },
  {
   "cell_type": "code",
   "execution_count": 13,
   "metadata": {
    "colab": {
     "base_uri": "https://localhost:8080/"
    },
    "id": "_SstHQlVvSQg",
    "outputId": "bd7cfc81-f1d3-4c59-c5bd-583c128e7b30"
   },
   "outputs": [
    {
     "name": "stdout",
     "output_type": "stream",
     "text": [
      "Średnia próbkowa 0.5114087880259758\n",
      "Średnia teoretyczna 0.5\n",
      "Wariancia próbkowa 0.08546330873317101\n",
      "Wariancja teoretyczna 0.08333333333333333\n"
     ]
    }
   ],
   "source": [
    "print(\"Średnia próbkowa\", np.mean(l3))\n",
    "print(\"Średnia teoretyczna\", 1/2)\n",
    "\n",
    "print(\"Wariancia próbkowa\", np.var(l3))\n",
    "print(\"Wariancja teoretyczna\", 1/12)"
   ]
  },
  {
   "cell_type": "code",
   "execution_count": 17,
   "metadata": {
    "colab": {
     "base_uri": "https://localhost:8080/",
     "height": 349
    },
    "id": "7SQ_StmSvdA6",
    "outputId": "6dcecb2b-0966-4f34-d173-bece67cbebc6"
   },
   "outputs": [
    {
     "data": {
      "text/plain": [
       "(array([ 94.,  91., 108.,  92., 103., 105.,  90.,  92., 116., 109.]),\n",
       " array([4019.47879751, 4616.63621495, 5213.79363239, 5810.95104983,\n",
       "        6408.10846726, 7005.2658847 , 7602.42330214, 8199.58071958,\n",
       "        8796.73813702, 9393.89555446, 9991.0529719 ]),\n",
       " <BarContainer object of 10 artists>)"
      ]
     },
     "execution_count": 17,
     "metadata": {},
     "output_type": "execute_result"
    },
    {
     "data": {
      "image/png": "[encoded data removed]",
      "text/plain": [
       "<Figure size 432x288 with 1 Axes>"
      ]
     },
     "metadata": {
      "needs_background": "light"
     },
     "output_type": "display_data"
    }
   ],
   "source": [
    "l4 = R.random_float(1000, 4000.5, 10000.5)\n",
    "plt.hist(l4)"
   ]
  },
  {
   "cell_type": "code",
   "execution_count": 18,
   "metadata": {
    "colab": {
     "base_uri": "https://localhost:8080/",
     "height": 279
    },
    "id": "zUBfxrz_ve4L",
    "outputId": "6c66b3b3-efbc-40f1-d516-971b38c4b1b6"
   },
   "outputs": [
    {
     "name": "stderr",
     "output_type": "stream",
     "text": [
      "<ipython-input-2-99faaea31ad2>:3: DeprecationWarning: `np.float` is a deprecated alias for the builtin `float`. To silence this warning, use `float` by itself. Doing this will not modify any behavior and is safe. If you specifically wanted the numpy scalar type, use `np.float64` here.\n",
      "Deprecated in NumPy 1.20; for more details and guidance: https://numpy.org/devdocs/release/1.20.0-notes.html#deprecations\n",
      "  xs = np.array(random_sample, dtype=np.float)\n"
     ]
    },
    {
     "data": {
      "image/png": "[encoded data removed]",
      "text/plain": [
       "<Figure size 432x288 with 1 Axes>"
      ]
     },
     "metadata": {
      "needs_background": "light"
     },
     "output_type": "display_data"
    }
   ],
   "source": [
    "drawdemp(l4, sub= lambda x: stats.uniform.cdf(x, 4000.5, 6000))"
   ]
  },
  {
   "cell_type": "code",
   "execution_count": 20,
   "metadata": {
    "colab": {
     "base_uri": "https://localhost:8080/"
    },
    "id": "JLePfsWIvj2w",
    "outputId": "e73758a2-f31b-4b26-bcb9-ea520f3df14f"
   },
   "outputs": [
    {
     "name": "stdout",
     "output_type": "stream",
     "text": [
      "Test zgodnosci Kołmogorowa-Smirnowa: 96.0\n"
     ]
    }
   ],
   "source": [
    "alfa = 0.05\n",
    "result = np.zeros(100)\n",
    "for i in range(100):\n",
    "    l_i = R.random_float(1000, 400.5, 1000.5)\n",
    "    result[i] = stats.kstest(l_i, lambda x: stats.uniform.cdf(x, 400.5, 600)).pvalue > alfa\n",
    "print(\"Test zgodnosci Kołmogorowa-Smirnowa:\", sum(result))"
   ]
  },
  {
   "cell_type": "code",
   "execution_count": 21,
   "metadata": {
    "colab": {
     "base_uri": "https://localhost:8080/",
     "height": 282
    },
    "id": "DEBEFtWKvl4x",
    "outputId": "de11f69a-89b9-4f68-eea9-abc51aaa68d4"
   },
   "outputs": [
    {
     "data": {
      "text/plain": [
       "<matplotlib.collections.PathCollection at 0x15ba8f63430>"
      ]
     },
     "execution_count": 21,
     "metadata": {},
     "output_type": "execute_result"
    },
    {
     "data": {
      "image/png": "[encoded data removed]",
      "text/plain": [
       "<Figure size 432x288 with 1 Axes>"
      ]
     },
     "metadata": {
      "needs_background": "light"
     },
     "output_type": "display_data"
    }
   ],
   "source": [
    "plt.scatter(l4[:-1], l4[1:])"
   ]
  },
  {
   "cell_type": "markdown",
   "metadata": {
    "id": "NzwkZcLqvufn"
   },
   "source": [
    "**Rozkład ciągły (dla dużych $a$ i $b$)**"
   ]
  },
  {
   "cell_type": "markdown",
   "metadata": {
    "id": "syCmXnbZv49V"
   },
   "source": [
    "W przypadku bardzo dużych liczb zmiennoprzecinkowych, korzystamy z możliwości pakietu decimal, który daje praktycznie nieograniczoną dokładność nawet dla bardzo dużych floatów."
   ]
  },
  {
   "cell_type": "code",
   "execution_count": 22,
   "metadata": {
    "colab": {
     "base_uri": "https://localhost:8080/"
    },
    "id": "Z6CPoC-jvotC",
    "outputId": "c4d0496f-cd74-4dff-ea59-8728e3f17618"
   },
   "outputs": [
    {
     "name": "stdout",
     "output_type": "stream",
     "text": [
      "[Decimal('18446744073709551615.4254116565')\n",
      " Decimal('18446744073709551615.0145162196')\n",
      " Decimal('18446744073709551615.3404236588')\n",
      " Decimal('18446744073709551615.9939272264')\n",
      " Decimal('18446744073709551615.9817816792')\n",
      " Decimal('18446744073709551615.0273762876')\n",
      " Decimal('18446744073709551615.4102538629')\n",
      " Decimal('18446744073709551615.2971678387')\n",
      " Decimal('18446744073709551615.1727535161')\n",
      " Decimal('18446744073709551615.4440417983')]\n",
      "\n",
      "Średnia próbkowa 18446744073709551615.4872504429\n",
      "Wariancia próbkowa 0.08337830601239377410473\n"
     ]
    }
   ],
   "source": [
    "l5 = R.random_float(1000, 2**64 - 1, 2**64, prec=30, to_float=False)\n",
    "print(l5[:10])\n",
    "print()\n",
    "print(\"Średnia próbkowa\", np.mean(l5))\n",
    "print(\"Wariancia próbkowa\", np.var(l5))"
   ]
  },
  {
   "cell_type": "markdown",
   "metadata": {
    "id": "Nn5AZmxKv9H1"
   },
   "source": [
    "Metoda random_float_union generuje liczby z rozkładu $U((0,1)\\cup(2^{64}-1, 2^{64}))$ i działa w następujący sposób:\n",
    "1. Losuje liczbę z $U = U(0,1).$\n",
    "2. Jeśli $U < 0.5$ zwraca liczbę z $U(0,1)$, w przeciwnym przypadku zwraca liczbę z $U(2^{64}-1, 2^{64}).$ \n",
    "\n",
    "Gdy same_prec=True wszystkie wylosowane liczby mają tyle samo miejsc po przecinku."
   ]
  },
  {
   "cell_type": "code",
   "execution_count": 23,
   "metadata": {
    "colab": {
     "base_uri": "https://localhost:8080/"
    },
    "id": "Fvx4AzYLv7Ax",
    "outputId": "02d576aa-7cdf-4f2d-bcae-4a602f4d02b9"
   },
   "outputs": [
    {
     "name": "stdout",
     "output_type": "stream",
     "text": [
      "[Decimal('18446744073709551615.3147063837968744337558746337890625')\n",
      " Decimal('18446744073709551615.789388704186421819031238555908203125')\n",
      " Decimal('0.03027958769234828650951385498046875')\n",
      " Decimal('0.917047539245686493813991546630859375')\n",
      " Decimal('18446744073709551615.366709103225730359554290771484375')]\n"
     ]
    }
   ],
   "source": [
    "l6_1 = R.random_float_union(n=1000, prec=60 ,same_prec=True)\n",
    "print(l6_1[0:5])"
   ]
  },
  {
   "cell_type": "code",
   "execution_count": 24,
   "metadata": {
    "colab": {
     "base_uri": "https://localhost:8080/"
    },
    "id": "zcyYNwq8wARV",
    "outputId": "45ebe2b4-f575-42ae-b837-058e569fdb34"
   },
   "outputs": [
    {
     "name": "stdout",
     "output_type": "stream",
     "text": [
      "[Decimal('18446744073709551615.40188378')\n",
      " Decimal('18446744073709551615.32398528')\n",
      " Decimal('0.5916487340291496366262435913')\n",
      " Decimal('0.7193698562768986448645591736')\n",
      " Decimal('18446744073709551615.33760996')]\n"
     ]
    }
   ],
   "source": [
    "l6_2 = R.random_float_union(n=5, same_prec=False)\n",
    "print(l6_2)"
   ]
  },
  {
   "cell_type": "code",
   "execution_count": 25,
   "metadata": {
    "colab": {
     "base_uri": "https://localhost:8080/",
     "height": 362
    },
    "id": "faMLbjJgwBv-",
    "outputId": "2006d8d4-e479-406e-89e4-5f8cadc85317"
   },
   "outputs": [
    {
     "data": {
      "text/plain": [
       "(array([504.,   0.,   0.,   0.,   0.,   0.,   0.,   0.,   0., 496.]),\n",
       " array([2.51988749e-04, 1.84467441e+18, 3.68934881e+18, 5.53402322e+18,\n",
       "        7.37869763e+18, 9.22337204e+18, 1.10680464e+19, 1.29127209e+19,\n",
       "        1.47573953e+19, 1.66020697e+19, 1.84467441e+19]),\n",
       " <BarContainer object of 10 artists>)"
      ]
     },
     "execution_count": 25,
     "metadata": {},
     "output_type": "execute_result"
    },
    {
     "data": {
      "image/png": "[encoded data removed]",
      "text/plain": [
       "<Figure size 432x288 with 1 Axes>"
      ]
     },
     "metadata": {
      "needs_background": "light"
     },
     "output_type": "display_data"
    }
   ],
   "source": [
    "plt.hist(l6_1)"
   ]
  },
  {
   "cell_type": "code",
   "execution_count": null,
   "metadata": {
    "colab": {
     "base_uri": "https://localhost:8080/"
    },
    "id": "kAoiuhA4wEMq",
    "outputId": "b0cd0797-9b83-4e54-da6f-ef3b7e48c335"
   },
   "outputs": [],
   "source": [
    "print(\"Średnia próbkowa:\", np.mean(l6_1))\n",
    "print(\"Wariancia próbkowa:\", np.var(l6_1))"
   ]
  },
  {
   "cell_type": "code",
   "execution_count": null,
   "metadata": {
    "colab": {
     "base_uri": "https://localhost:8080/",
     "height": 286
    },
    "id": "k3NbK0gBwKPn",
    "outputId": "2f4afef6-b4a8-4c14-b489-05c9ae0a6b42"
   },
   "outputs": [],
   "source": [
    "l6_3 = R.random_float_union(n=1000, a=2, b=3, same_prec=True)\n",
    "fig, ax = plt.subplots()\n",
    "plt.xticks([0,1,1.5,2,3],[0, 1,'$\\dots$','$2^{64}-1$', '$2^{64}$'])\n",
    "plt.yticks([0,1,1.5,2,3],[0, 1,'$\\dots$','$2^{64}-1$', '$2^{64}$'])\n",
    "plt.scatter(l6_3[:-1], l6_3[1:], s=4*2)"
   ]
  },
  {
   "cell_type": "markdown",
   "metadata": {
    "id": "wy-_FLHnwVI6"
   },
   "source": [
    "Podsumowując, zaimplementowany przez nas generator liczb pseudolosowych wydaje się być dostatecznie losowy, przechodzi testy Kołmogorowa-Smirnowa, ma (dosyć) duży okres oraz losuje liczby z odpowiednich rozkładów. Nie czyni to go jeszcze dobrym generatorem, ale z pewnością generatorem."
   ]
  }
 ],
 "metadata": {
  "colab": {
   "collapsed_sections": [],
   "name": "Problem 1.ipynb",
   "provenance": [],
   "toc_visible": true
  },
  "kernelspec": {
   "display_name": "Python 3",
   "language": "python",
   "name": "python3"
  },
  "language_info": {
   "codemirror_mode": {
    "name": "ipython",
    "version": 3
   },
   "file_extension": ".py",
   "mimetype": "text/x-python",
   "name": "python",
   "nbconvert_exporter": "python",
   "pygments_lexer": "ipython3",
   "version": "3.9.5"
  }
 },
 "nbformat": 4,
 "nbformat_minor": 1
}
